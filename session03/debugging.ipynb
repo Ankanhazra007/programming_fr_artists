{
 "cells": [
  {
   "cell_type": "markdown",
   "metadata": {},
   "source": [
    "# Python Errors"
   ]
  },
  {
   "cell_type": "markdown",
   "metadata": {},
   "source": [
    "### Table of Contents\n",
    "* [Syntax Error](#syntax-error)\n",
    "* [Indentation Error](#indentation-error)\n",
    "* [Key Error](#key-error)\n",
    "* [Attribute Error](#attribute-error) "
   ]
  },
  {
   "cell_type": "markdown",
   "metadata": {},
   "source": []
  },
  {
   "cell_type": "markdown",
   "metadata": {},
   "source": [
    "## Syntax Error\n",
    "\n",
    "* You are missing or have an extranious character somewhere. Most often it is a missing colon after an if statement or loop. Test often to catch these errors quickly.\n",
    "\n",
    "* See it happen: ```>>> for x in range(10)```\n"
   ]
  },
  {
   "cell_type": "code",
   "execution_count": null,
   "metadata": {},
   "outputs": [],
   "source": [
    "# code looking something like this\n",
    "for x in range(10)\n",
    "\tprint x \n",
    "\t"
   ]
  },
  {
   "cell_type": "markdown",
   "metadata": {},
   "source": [
    "Error you get <br/>\n",
    "SyntaxError: invalid syntax"
   ]
  },
  {
   "cell_type": "markdown",
   "metadata": {},
   "source": [
    "\n",
    "## Indentation Error\n",
    "\n",
    "* You either forgot to indent some code, or you indented a line that should not be indented. This often happend when the code in a function declaration or for loop is not indented. \n",
    "\n",
    "##### Expected Indentation"
   ]
  },
  {
   "cell_type": "code",
   "execution_count": null,
   "metadata": {},
   "outputs": [],
   "source": [
    "# code looking something like this\n",
    "def myFunc():\n",
    "print \"in myFunc\"\n",
    "return True"
   ]
  },
  {
   "cell_type": "markdown",
   "metadata": {},
   "source": [
    "<p># error you get </p>\n",
    "IndentationError: expected an indented block"
   ]
  },
  {
   "cell_type": "markdown",
   "metadata": {},
   "source": [
    "##### Unexpected Indentation"
   ]
  },
  {
   "cell_type": "code",
   "execution_count": null,
   "metadata": {},
   "outputs": [],
   "source": [
    "# code looking something like this\n",
    "def myFunc():\n",
    "\tprint \"in myFunc\"\n",
    "\t\treturn True"
   ]
  },
  {
   "cell_type": "markdown",
   "metadata": {},
   "source": [
    "<p># error you get</p>\n",
    "IndentationError: unexpected indent"
   ]
  },
  {
   "cell_type": "markdown",
   "metadata": {},
   "source": [
    "## Key Error\n",
    "\n",
    "* You are trying to access a value in a dictionary by a key that doesn't exist. To avoid this error, you can validate that there is a specific key before trying to access it.\n",
    "\n",
    "* See it happen: ``` >>> {}['someKey'] ```"
   ]
  },
  {
   "cell_type": "code",
   "execution_count": null,
   "metadata": {},
   "outputs": [],
   "source": [
    "# code looking something like this\n",
    "someVar = myDictionary['someKey']"
   ]
  },
  {
   "cell_type": "markdown",
   "metadata": {},
   "source": [
    "<p># error you get</p>\n",
    "KeyError: 'someKey'"
   ]
  },
  {
   "cell_type": "markdown",
   "metadata": {},
   "source": [
    "##### Solution:"
   ]
  },
  {
   "cell_type": "code",
   "execution_count": null,
   "metadata": {},
   "outputs": [],
   "source": [
    "# validate the key exists\n",
    "if 'someKey' in myDictionary:\n",
    "\tsomeVar = myDictionary['someKey']\n",
    "# handel error appropriately\n",
    "else:\n",
    "\tsomeVar = 0"
   ]
  },
  {
   "cell_type": "markdown",
   "metadata": {},
   "source": [
    "## Attribute Error\n",
    "\n",
    "* You are assuming some variable is an object when it is actually some other type. This often happens when a function returns ```None``` do to the absence of a return statement but you are expecting an object.\n",
    "\n",
    "* See it happen: ``` >>> None.someAttr ```"
   ]
  },
  {
   "cell_type": "code",
   "execution_count": null,
   "metadata": {},
   "outputs": [],
   "source": [
    "# code looking something like this\n",
    "assumedObject = myFunction()\n",
    "someVar = assumedObject.someAttr"
   ]
  },
  {
   "cell_type": "markdown",
   "metadata": {},
   "source": [
    "<p># error you get</p>\n",
    "AttributeError: 'NoneType' object has no attribute 'someAttr'"
   ]
  },
  {
   "cell_type": "markdown",
   "metadata": {},
   "source": [
    "##### Solution:"
   ]
  },
  {
   "cell_type": "code",
   "execution_count": null,
   "metadata": {},
   "outputs": [],
   "source": [
    "# validate variable is an object\n",
    "if isinstance(assumedObject, dict):\n",
    "\tsomeVar = assumedObject.someAttr\n",
    "# handel error appropriately\n",
    "else:\n",
    "\tsomeVar = 0"
   ]
  },
  {
   "cell_type": "code",
   "execution_count": null,
   "metadata": {},
   "outputs": [],
   "source": []
  }
 ],
 "metadata": {
  "kernelspec": {
   "display_name": "Python 3",
   "language": "python",
   "name": "python3"
  }
 },
 "nbformat": 4,
 "nbformat_minor": 2
}
